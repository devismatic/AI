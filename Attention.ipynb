{
  "nbformat": 4,
  "nbformat_minor": 0,
  "metadata": {
    "colab": {
      "provenance": []
    },
    "kernelspec": {
      "name": "python3",
      "display_name": "Python 3"
    },
    "language_info": {
      "name": "python"
    }
  },
  "cells": [
    {
      "cell_type": "code",
      "source": [
        "import numpy as np\n",
        "import math\n",
        "\n",
        "sentence_tokens = [\"the\", \"earth\", \"is\", \"round\"]\n",
        "word_to_index = {word: i for i, word in enumerate(sentence_tokens)}\n",
        "#np.eye creates a diagnol matrix\n",
        "one_hot_encoding = np.eye(len(word_to_index))"
      ],
      "metadata": {
        "id": "eWL0-ecbkh01"
      },
      "execution_count": 37,
      "outputs": []
    },
    {
      "cell_type": "code",
      "source": [
        "word_to_index"
      ],
      "metadata": {
        "colab": {
          "base_uri": "https://localhost:8080/"
        },
        "id": "990vRgM6kllc",
        "outputId": "41f8c511-589a-4678-80bf-f1bd59f5727d"
      },
      "execution_count": 38,
      "outputs": [
        {
          "output_type": "execute_result",
          "data": {
            "text/plain": [
              "{'the': 0, 'earth': 1, 'is': 2, 'round': 3}"
            ]
          },
          "metadata": {},
          "execution_count": 38
        }
      ]
    },
    {
      "cell_type": "code",
      "source": [
        "one_hot_encoding"
      ],
      "metadata": {
        "colab": {
          "base_uri": "https://localhost:8080/"
        },
        "id": "SNS5ji4Xm90Q",
        "outputId": "d0b56684-c7cb-4e05-b405-ffb3123067fd"
      },
      "execution_count": 39,
      "outputs": [
        {
          "output_type": "execute_result",
          "data": {
            "text/plain": [
              "array([[1., 0., 0., 0.],\n",
              "       [0., 1., 0., 0.],\n",
              "       [0., 0., 1., 0.],\n",
              "       [0., 0., 0., 1.]])"
            ]
          },
          "metadata": {},
          "execution_count": 39
        }
      ]
    },
    {
      "cell_type": "code",
      "source": [
        "W_Q = np.array([\n",
        "     [0.1, 0.2, 0.3],\n",
        "     [0.4, 0.5, 0.6],\n",
        "     [0.7, 0.8, 0.9],\n",
        "     [1.0, 1.1, 1.2],\n",
        "],dtype=float)\n",
        "\n",
        "Q = one_hot_encoding @ W_Q\n",
        "print(Q)"
      ],
      "metadata": {
        "colab": {
          "base_uri": "https://localhost:8080/"
        },
        "id": "umobnaFsnl1e",
        "outputId": "48d01e4e-d2f2-4a8d-c9aa-83df33670cc7"
      },
      "execution_count": 40,
      "outputs": [
        {
          "output_type": "stream",
          "name": "stdout",
          "text": [
            "[[0.1 0.2 0.3]\n",
            " [0.4 0.5 0.6]\n",
            " [0.7 0.8 0.9]\n",
            " [1.  1.1 1.2]]\n"
          ]
        }
      ]
    },
    {
      "cell_type": "code",
      "source": [
        "W_K = np.array([\n",
        "    [0.4, 0.5, 0.6],\n",
        "    [0.1, 0.2, 0.3],\n",
        "    [1.0, 1.1, 1.2],\n",
        "    [0.7, 0.8, 0.9],\n",
        "],dtype=float)\n",
        "\n",
        "K = one_hot_encoding @ W_K\n",
        "print(K)"
      ],
      "metadata": {
        "id": "bc0LjNT1nMhD",
        "colab": {
          "base_uri": "https://localhost:8080/"
        },
        "outputId": "695a61e9-90ba-4d0b-dce4-d29d38230a35"
      },
      "execution_count": 41,
      "outputs": [
        {
          "output_type": "stream",
          "name": "stdout",
          "text": [
            "[[0.4 0.5 0.6]\n",
            " [0.1 0.2 0.3]\n",
            " [1.  1.1 1.2]\n",
            " [0.7 0.8 0.9]]\n"
          ]
        }
      ]
    },
    {
      "cell_type": "code",
      "source": [
        "W_V = np.array([\n",
        "    [0.1, 0.2, 0.3],\n",
        "    [1.0, 1.1, 1.2],\n",
        "    [0.1, 0.2, 0.3],\n",
        "    [0.4, 0.5, 0.6],\n",
        "],dtype=float)\n",
        "\n",
        "V = one_hot_encoding @ W_V\n",
        "print(V)"
      ],
      "metadata": {
        "id": "ht3tEOc4nSXb",
        "colab": {
          "base_uri": "https://localhost:8080/"
        },
        "outputId": "2fd76a76-7b4a-4f1f-d0ff-8096e754d9cf"
      },
      "execution_count": 42,
      "outputs": [
        {
          "output_type": "stream",
          "name": "stdout",
          "text": [
            "[[0.1 0.2 0.3]\n",
            " [1.  1.1 1.2]\n",
            " [0.1 0.2 0.3]\n",
            " [0.4 0.5 0.6]]\n"
          ]
        }
      ]
    },
    {
      "cell_type": "code",
      "source": [
        "QKt = Q @ K.T\n",
        "d_k = K.shape[1]\n",
        "scaled_scores = QKt / np.sqrt(d_k)"
      ],
      "metadata": {
        "id": "lnOidOGMYsDX"
      },
      "execution_count": 43,
      "outputs": []
    },
    {
      "cell_type": "code",
      "source": [
        "def softmax_score(x):\n",
        "    e_x = np.exp(x - np.max(x, axis=-1, keepdims=True))\n",
        "    return e_x / e_x.sum(axis=-1, keepdims=True)"
      ],
      "metadata": {
        "id": "AG3hPd_uZwZ7"
      },
      "execution_count": 44,
      "outputs": []
    },
    {
      "cell_type": "code",
      "source": [
        "attn = softmax_score(scaled_scores)"
      ],
      "metadata": {
        "id": "JYmT-I_1aHVq"
      },
      "execution_count": 45,
      "outputs": []
    },
    {
      "cell_type": "code",
      "source": [
        "out = attn @ V"
      ],
      "metadata": {
        "id": "0TvnSJdnaJX_"
      },
      "execution_count": 46,
      "outputs": []
    },
    {
      "cell_type": "code",
      "source": [
        "\n",
        "print(\"Final attention outputs (attn @ V):\\n\", out, \"\\n\")\n"
      ],
      "metadata": {
        "colab": {
          "base_uri": "https://localhost:8080/"
        },
        "id": "s-gWQ8dWaLnC",
        "outputId": "c9b0924d-ceef-40a0-9720-0b1a1f9d2a1b"
      },
      "execution_count": 47,
      "outputs": [
        {
          "output_type": "stream",
          "name": "stdout",
          "text": [
            "Final attention outputs (attn @ V):\n",
            " [[0.36969935 0.46969935 0.56969935]\n",
            " [0.32805318 0.42805318 0.52805318]\n",
            " [0.2916227  0.3916227  0.4916227 ]\n",
            " [0.26060479 0.36060479 0.46060479]] \n",
            "\n"
          ]
        }
      ]
    }
  ]
}